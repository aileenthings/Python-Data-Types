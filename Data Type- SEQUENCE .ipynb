{
 "cells": [
  {
   "cell_type": "markdown",
   "id": "1c3837a0",
   "metadata": {},
   "source": [
    "# Sequence"
   ]
  },
  {
   "cell_type": "markdown",
   "id": "bece558d",
   "metadata": {},
   "source": [
    "## Part 1- Lists"
   ]
  },
  {
   "cell_type": "markdown",
   "id": "b52d800c",
   "metadata": {},
   "source": [
    "### List is a collection which is ordered and changeable. Allows duplicate members."
   ]
  },
  {
   "cell_type": "code",
   "execution_count": 1,
   "id": "4946670c",
   "metadata": {},
   "outputs": [],
   "source": [
    "# assign a list to a variable\n",
    "eg_list = [\"apple\", \"banana\", \"cherry\", \"mango\", \"melon\"]"
   ]
  },
  {
   "cell_type": "code",
   "execution_count": 2,
   "id": "ec839b0f",
   "metadata": {},
   "outputs": [
    {
     "name": "stdout",
     "output_type": "stream",
     "text": [
      "['apple', 'banana', 'cherry', 'mango', 'melon']\n"
     ]
    }
   ],
   "source": [
    "print(eg_list)"
   ]
  },
  {
   "cell_type": "code",
   "execution_count": 3,
   "id": "53685fd9",
   "metadata": {},
   "outputs": [
    {
     "name": "stdout",
     "output_type": "stream",
     "text": [
      "<class 'list'>\n"
     ]
    }
   ],
   "source": [
    "print(type(eg_list))"
   ]
  },
  {
   "cell_type": "markdown",
   "id": "14a84e44",
   "metadata": {},
   "source": [
    "## Part 2- Tupels"
   ]
  },
  {
   "cell_type": "markdown",
   "id": "8d84644f",
   "metadata": {},
   "source": [
    "### Tuple is a collection which is ordered and unchangeable. Allows duplicate members."
   ]
  },
  {
   "cell_type": "markdown",
   "id": "a1e248f6",
   "metadata": {},
   "source": [
    "#### NOTE - you cant have a single value in a tuple"
   ]
  },
  {
   "cell_type": "code",
   "execution_count": 4,
   "id": "02ababa9",
   "metadata": {},
   "outputs": [],
   "source": [
    "# assign a tuple to a variable\n",
    "eg_tuple = (\"apple\", \"banana\", \"cherry\")"
   ]
  },
  {
   "cell_type": "code",
   "execution_count": 5,
   "id": "ac85f4c5",
   "metadata": {},
   "outputs": [
    {
     "name": "stdout",
     "output_type": "stream",
     "text": [
      "('apple', 'banana', 'cherry')\n"
     ]
    }
   ],
   "source": [
    "print(eg_tuple)"
   ]
  },
  {
   "cell_type": "code",
   "execution_count": 6,
   "id": "8ed1a5f5",
   "metadata": {},
   "outputs": [
    {
     "name": "stdout",
     "output_type": "stream",
     "text": [
      "<class 'tuple'>\n"
     ]
    }
   ],
   "source": [
    "print(type(eg_tuple))"
   ]
  },
  {
   "cell_type": "markdown",
   "id": "30592339",
   "metadata": {},
   "source": [
    "## Part 3- Sets"
   ]
  },
  {
   "cell_type": "markdown",
   "id": "cb852406",
   "metadata": {},
   "source": [
    "### Set is a collection which is unordered, unchangeable*, and unindexed. No duplicate members."
   ]
  },
  {
   "cell_type": "markdown",
   "id": "927ff510",
   "metadata": {},
   "source": [
    "#### NOTE- unlike tuple; sets will not take in duplicate value"
   ]
  },
  {
   "cell_type": "code",
   "execution_count": 7,
   "id": "828073d4",
   "metadata": {},
   "outputs": [],
   "source": [
    "# assign a set to a variable\n",
    "eg_set = {\"apple\", \"banana\", \"cherry\"}"
   ]
  },
  {
   "cell_type": "code",
   "execution_count": 8,
   "id": "27e4f77d",
   "metadata": {},
   "outputs": [
    {
     "name": "stdout",
     "output_type": "stream",
     "text": [
      "{'banana', 'cherry', 'apple'}\n"
     ]
    }
   ],
   "source": [
    "print(eg_set)"
   ]
  },
  {
   "cell_type": "code",
   "execution_count": 9,
   "id": "58716dd7",
   "metadata": {},
   "outputs": [
    {
     "name": "stdout",
     "output_type": "stream",
     "text": [
      "{'banana', 'cherry', 'apple'}\n"
     ]
    }
   ],
   "source": [
    "# sets dont take in duplicate values\n",
    "thisset = {\"apple\", \"banana\", \"cherry\",\"banana\", \"cherry\"}\n",
    "print(thisset)"
   ]
  },
  {
   "cell_type": "code",
   "execution_count": 10,
   "id": "53926513",
   "metadata": {},
   "outputs": [
    {
     "name": "stdout",
     "output_type": "stream",
     "text": [
      "<class 'set'>\n"
     ]
    }
   ],
   "source": [
    "print(type(eg_set))"
   ]
  },
  {
   "cell_type": "markdown",
   "id": "8b597988",
   "metadata": {},
   "source": [
    "## Part 4- Dictionary"
   ]
  },
  {
   "cell_type": "markdown",
   "id": "f0fb53c7",
   "metadata": {},
   "source": [
    "### Dictionary is a collection which is ordered** and changeable. No duplicate members."
   ]
  },
  {
   "cell_type": "markdown",
   "id": "4338cd38",
   "metadata": {},
   "source": [
    "#### Dictionaries are used to store data values in key:value pairs."
   ]
  },
  {
   "cell_type": "code",
   "execution_count": 11,
   "id": "78bf207b",
   "metadata": {},
   "outputs": [],
   "source": [
    "# defining a dictionary\n",
    "eg_dict = {\n",
    "  \"brand\": \"Ford\",\n",
    "  \"model\": \"Mustang\",\n",
    "  \"year\": 1964\n",
    "}"
   ]
  },
  {
   "cell_type": "code",
   "execution_count": 12,
   "id": "77c11030",
   "metadata": {},
   "outputs": [
    {
     "name": "stdout",
     "output_type": "stream",
     "text": [
      "{'brand': 'Ford', 'model': 'Mustang', 'year': 1964}\n"
     ]
    }
   ],
   "source": [
    "print(eg_dict)"
   ]
  },
  {
   "cell_type": "code",
   "execution_count": 13,
   "id": "4dc66d4b",
   "metadata": {},
   "outputs": [
    {
     "name": "stdout",
     "output_type": "stream",
     "text": [
      "<class 'dict'>\n"
     ]
    }
   ],
   "source": [
    "print(type(eg_dict))"
   ]
  },
  {
   "cell_type": "code",
   "execution_count": 14,
   "id": "3173cfaf",
   "metadata": {},
   "outputs": [
    {
     "name": "stdout",
     "output_type": "stream",
     "text": [
      "Ford\n"
     ]
    }
   ],
   "source": [
    "# printing a perticular key\n",
    "print(eg_dict[\"brand\"])"
   ]
  },
  {
   "cell_type": "code",
   "execution_count": 15,
   "id": "b0561fc6",
   "metadata": {},
   "outputs": [
    {
     "name": "stdout",
     "output_type": "stream",
     "text": [
      "{'brand': 'Ford', 'model': 'Mustang', 'year': 2020}\n"
     ]
    }
   ],
   "source": [
    "# Duplicate values will overwrite existing values\n",
    "eg1dict = {\n",
    "  \"brand\": \"Ford\",\n",
    "  \"model\": \"Mustang\",\n",
    "  \"year\": 1964,\n",
    "  \"year\": 2020\n",
    "}\n",
    "print(eg1dict)"
   ]
  }
 ],
 "metadata": {
  "kernelspec": {
   "display_name": "Python 3 (ipykernel)",
   "language": "python",
   "name": "python3"
  },
  "language_info": {
   "codemirror_mode": {
    "name": "ipython",
    "version": 3
   },
   "file_extension": ".py",
   "mimetype": "text/x-python",
   "name": "python",
   "nbconvert_exporter": "python",
   "pygments_lexer": "ipython3",
   "version": "3.9.7"
  }
 },
 "nbformat": 4,
 "nbformat_minor": 5
}
