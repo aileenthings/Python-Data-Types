{
 "cells": [
  {
   "cell_type": "markdown",
   "id": "d2db434f",
   "metadata": {},
   "source": [
    "# Numeric"
   ]
  },
  {
   "cell_type": "markdown",
   "id": "41cf5227",
   "metadata": {},
   "source": [
    "## int, float, complex"
   ]
  },
  {
   "cell_type": "code",
   "execution_count": 1,
   "id": "30ba12db",
   "metadata": {},
   "outputs": [],
   "source": [
    "# assign numeric to a variable\n",
    "eg_int= 5    \n",
    "eg_float= 2.8 \n",
    "eg_comp= 1j   "
   ]
  },
  {
   "cell_type": "code",
   "execution_count": 2,
   "id": "9dfcf0dc",
   "metadata": {},
   "outputs": [
    {
     "name": "stdout",
     "output_type": "stream",
     "text": [
      "5\n"
     ]
    }
   ],
   "source": [
    "print(eg_int)"
   ]
  },
  {
   "cell_type": "code",
   "execution_count": 3,
   "id": "aec1ee83",
   "metadata": {},
   "outputs": [
    {
     "name": "stdout",
     "output_type": "stream",
     "text": [
      "<class 'int'>\n",
      "<class 'float'>\n",
      "<class 'complex'>\n"
     ]
    }
   ],
   "source": [
    "print(type(eg_int))\n",
    "print(type(eg_float))\n",
    "print(type(eg_comp))"
   ]
  },
  {
   "cell_type": "markdown",
   "id": "0e231971",
   "metadata": {},
   "source": [
    "### function you can perform with numerics"
   ]
  },
  {
   "cell_type": "code",
   "execution_count": 4,
   "id": "5e7fe157",
   "metadata": {},
   "outputs": [
    {
     "name": "stdout",
     "output_type": "stream",
     "text": [
      "2.8\n",
      "changes to the following when type casted into an int\n",
      "2\n",
      "<class 'int'>\n"
     ]
    }
   ],
   "source": [
    "# typecast- change the type of numeric\n",
    "print(eg_float)\n",
    "print(\"changes to the following when type casted into an int\")\n",
    "eg_ncast= int(eg_float)\n",
    "print(eg_ncast)\n",
    "print(type(eg_ncast))"
   ]
  },
  {
   "cell_type": "code",
   "execution_count": 5,
   "id": "8c4fb37a",
   "metadata": {},
   "outputs": [
    {
     "name": "stdout",
     "output_type": "stream",
     "text": [
      "35j\n"
     ]
    }
   ],
   "source": [
    "x=35j\n",
    "y=str(x)\n",
    "type(x)\n",
    "print(y)"
   ]
  },
  {
   "cell_type": "code",
   "execution_count": 6,
   "id": "bc25cdab",
   "metadata": {},
   "outputs": [
    {
     "name": "stdout",
     "output_type": "stream",
     "text": [
      "43\n"
     ]
    }
   ],
   "source": [
    "# get random numbers\n",
    "import random\n",
    "x=5\n",
    "y=72\n",
    "print(random.randrange(x,y))"
   ]
  },
  {
   "cell_type": "code",
   "execution_count": 7,
   "id": "fc97902e",
   "metadata": {},
   "outputs": [
    {
     "name": "stdout",
     "output_type": "stream",
     "text": [
      "12.8\n"
     ]
    }
   ],
   "source": [
    "# any numeric functions\n",
    "eg_fun= eg_float+eg_ncast*eg_int\n",
    "print(eg_fun)"
   ]
  },
  {
   "cell_type": "markdown",
   "id": "c6dddd81",
   "metadata": {},
   "source": [
    "##### NOTE- priority will be given as follows-\n",
    "parentasics (), multiple or devide */, plus minus +-"
   ]
  },
  {
   "cell_type": "code",
   "execution_count": 8,
   "id": "3f690a9a",
   "metadata": {},
   "outputs": [
    {
     "name": "stdout",
     "output_type": "stream",
     "text": [
      "24.0\n"
     ]
    }
   ],
   "source": [
    "eg_fun= (eg_float+eg_ncast)*eg_int\n",
    "print(eg_fun)"
   ]
  },
  {
   "cell_type": "code",
   "execution_count": 9,
   "id": "c9d78575",
   "metadata": {},
   "outputs": [
    {
     "name": "stdout",
     "output_type": "stream",
     "text": [
      "12.8\n"
     ]
    }
   ],
   "source": [
    "eg_fun= eg_float+(eg_ncast*eg_int)\n",
    "print(eg_fun)"
   ]
  },
  {
   "cell_type": "code",
   "execution_count": null,
   "id": "2d7420c5",
   "metadata": {},
   "outputs": [],
   "source": []
  }
 ],
 "metadata": {
  "kernelspec": {
   "display_name": "Python 3 (ipykernel)",
   "language": "python",
   "name": "python3"
  },
  "language_info": {
   "codemirror_mode": {
    "name": "ipython",
    "version": 3
   },
   "file_extension": ".py",
   "mimetype": "text/x-python",
   "name": "python",
   "nbconvert_exporter": "python",
   "pygments_lexer": "ipython3",
   "version": "3.9.7"
  }
 },
 "nbformat": 4,
 "nbformat_minor": 5
}
