{
 "cells": [
  {
   "cell_type": "markdown",
   "id": "77491b90",
   "metadata": {},
   "source": [
    "# Text type"
   ]
  },
  {
   "cell_type": "markdown",
   "id": "c4eb5f25",
   "metadata": {},
   "source": [
    "## Strings "
   ]
  },
  {
   "cell_type": "code",
   "execution_count": 1,
   "id": "4e9b9f72",
   "metadata": {},
   "outputs": [],
   "source": [
    "# assigning a string to a variable\n",
    "eg_str=\"Python Basics\" "
   ]
  },
  {
   "cell_type": "code",
   "execution_count": 2,
   "id": "c42cd6c4",
   "metadata": {},
   "outputs": [
    {
     "name": "stdout",
     "output_type": "stream",
     "text": [
      "Python Basics\n",
      "Python Basics\n"
     ]
    }
   ],
   "source": [
    "print(\"Python Basics\")\n",
    "print(eg_str)"
   ]
  },
  {
   "cell_type": "code",
   "execution_count": 3,
   "id": "a1f68ca6",
   "metadata": {},
   "outputs": [
    {
     "data": {
      "text/plain": [
       "str"
      ]
     },
     "execution_count": 3,
     "metadata": {},
     "output_type": "execute_result"
    }
   ],
   "source": [
    "type(eg_str)"
   ]
  },
  {
   "cell_type": "markdown",
   "id": "f02d5ea6",
   "metadata": {},
   "source": [
    "### functions you can perform with strings"
   ]
  },
  {
   "cell_type": "code",
   "execution_count": 4,
   "id": "d2dc2dfe",
   "metadata": {},
   "outputs": [
    {
     "name": "stdout",
     "output_type": "stream",
     "text": [
      "o\n"
     ]
    }
   ],
   "source": [
    "# get a charecter from the string\n",
    "print(eg_str[4])"
   ]
  },
  {
   "cell_type": "code",
   "execution_count": 5,
   "id": "c891f432",
   "metadata": {},
   "outputs": [
    {
     "name": "stdout",
     "output_type": "stream",
     "text": [
      "on Bas\n"
     ]
    }
   ],
   "source": [
    "# get a range of charecter from string\n",
    "\n",
    "print(eg_str[4:10])"
   ]
  },
  {
   "cell_type": "code",
   "execution_count": 6,
   "id": "878392d5",
   "metadata": {},
   "outputs": [
    {
     "name": "stdout",
     "output_type": "stream",
     "text": [
      "True\n"
     ]
    }
   ],
   "source": [
    "# check if there are charechter in the string\n",
    "print(\"Basic\" in eg_str)"
   ]
  },
  {
   "cell_type": "code",
   "execution_count": 7,
   "id": "cf601c03",
   "metadata": {},
   "outputs": [
    {
     "name": "stdout",
     "output_type": "stream",
     "text": [
      "Python Basics\n"
     ]
    }
   ],
   "source": [
    "if \"Basic\" in eg_str:\n",
    "    print(eg_str)"
   ]
  },
  {
   "cell_type": "code",
   "execution_count": null,
   "id": "77cfce81",
   "metadata": {},
   "outputs": [],
   "source": []
  }
 ],
 "metadata": {
  "kernelspec": {
   "display_name": "Python 3 (ipykernel)",
   "language": "python",
   "name": "python3"
  },
  "language_info": {
   "codemirror_mode": {
    "name": "ipython",
    "version": 3
   },
   "file_extension": ".py",
   "mimetype": "text/x-python",
   "name": "python",
   "nbconvert_exporter": "python",
   "pygments_lexer": "ipython3",
   "version": "3.9.7"
  }
 },
 "nbformat": 4,
 "nbformat_minor": 5
}
