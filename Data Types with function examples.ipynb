{
 "cells": [
  {
   "cell_type": "markdown",
   "id": "0bda88f9",
   "metadata": {},
   "source": [
    "# Text type"
   ]
  },
  {
   "cell_type": "markdown",
   "id": "d09d7266",
   "metadata": {},
   "source": [
    "## str"
   ]
  },
  {
   "cell_type": "code",
   "execution_count": 75,
   "id": "ecdac328",
   "metadata": {},
   "outputs": [],
   "source": [
    "# assigning a string to a variable\n",
    "eg_str=\"Python Basics\" "
   ]
  },
  {
   "cell_type": "code",
   "execution_count": 76,
   "id": "1e5eec71",
   "metadata": {},
   "outputs": [
    {
     "name": "stdout",
     "output_type": "stream",
     "text": [
      "Python Basics\n",
      "Python Basics\n"
     ]
    }
   ],
   "source": [
    "print(\"Python Basics\")\n",
    "print(eg_str)"
   ]
  },
  {
   "cell_type": "code",
   "execution_count": 77,
   "id": "efa47629",
   "metadata": {},
   "outputs": [
    {
     "data": {
      "text/plain": [
       "str"
      ]
     },
     "execution_count": 77,
     "metadata": {},
     "output_type": "execute_result"
    }
   ],
   "source": [
    "type(eg_str)"
   ]
  },
  {
   "cell_type": "markdown",
   "id": "5536440c",
   "metadata": {},
   "source": [
    "### functions you can do with strings"
   ]
  },
  {
   "cell_type": "code",
   "execution_count": 78,
   "id": "6959be95",
   "metadata": {},
   "outputs": [
    {
     "name": "stdout",
     "output_type": "stream",
     "text": [
      "o\n"
     ]
    }
   ],
   "source": [
    "# get a charecter from the string\n",
    "print(eg_str[4])"
   ]
  },
  {
   "cell_type": "code",
   "execution_count": 79,
   "id": "a0b9fd8c",
   "metadata": {},
   "outputs": [
    {
     "name": "stdout",
     "output_type": "stream",
     "text": [
      "on Bas\n"
     ]
    }
   ],
   "source": [
    "# get a range of charecter from string\n",
    "\n",
    "print(eg_str[4:10])"
   ]
  },
  {
   "cell_type": "code",
   "execution_count": 80,
   "id": "73b37b8b",
   "metadata": {},
   "outputs": [
    {
     "name": "stdout",
     "output_type": "stream",
     "text": [
      "True\n"
     ]
    }
   ],
   "source": [
    "# check if there are charechter in the string\n",
    "print(\"Basic\" in eg_str)"
   ]
  },
  {
   "cell_type": "code",
   "execution_count": 81,
   "id": "475ae711",
   "metadata": {},
   "outputs": [
    {
     "name": "stdout",
     "output_type": "stream",
     "text": [
      "Python Basics\n"
     ]
    }
   ],
   "source": [
    "if \"Basic\" in eg_str:\n",
    "    print(eg_str)"
   ]
  },
  {
   "cell_type": "markdown",
   "id": "8d22a1a7",
   "metadata": {},
   "source": [
    "# Boolean"
   ]
  },
  {
   "cell_type": "markdown",
   "id": "5f52646d",
   "metadata": {},
   "source": [
    "### Booleans represent one of two values: True or False. "
   ]
  },
  {
   "cell_type": "code",
   "execution_count": 35,
   "id": "acbcee08",
   "metadata": {},
   "outputs": [
    {
     "name": "stdout",
     "output_type": "stream",
     "text": [
      "True\n",
      "False\n",
      "False\n"
     ]
    }
   ],
   "source": [
    "print(10 > 9)\n",
    "print(10 == 9)\n",
    "print(10 < 9)"
   ]
  },
  {
   "cell_type": "markdown",
   "id": "1682cefa",
   "metadata": {},
   "source": [
    "### function bool()"
   ]
  },
  {
   "cell_type": "markdown",
   "id": "cad73d57",
   "metadata": {},
   "source": [
    "#### The bool() function allows you to evaluate any value, and give you True or False in return"
   ]
  },
  {
   "cell_type": "markdown",
   "id": "2175d402",
   "metadata": {},
   "source": [
    "##### Note - \n",
    "Almost any value is evaluated to True if it has some sort of content.\n",
    "\n",
    "Any string is True, except empty strings.\n",
    "\n",
    "Any number is True, except 0.\n",
    "\n",
    "Any list, tuple, set, and dictionary are True, except empty ones."
   ]
  },
  {
   "cell_type": "code",
   "execution_count": 38,
   "id": "83beac95",
   "metadata": {},
   "outputs": [
    {
     "name": "stdout",
     "output_type": "stream",
     "text": [
      "True\n",
      "True\n",
      "False\n",
      "False\n"
     ]
    }
   ],
   "source": [
    "print(bool(\"Hello\"))\n",
    "print(bool(15))\n",
    "print(bool(False))\n",
    "print(bool(None))"
   ]
  },
  {
   "cell_type": "markdown",
   "id": "4cd82bd3",
   "metadata": {},
   "source": [
    "# Numeric"
   ]
  },
  {
   "cell_type": "markdown",
   "id": "3d910f54",
   "metadata": {},
   "source": [
    "## int, float and complex"
   ]
  },
  {
   "cell_type": "code",
   "execution_count": 82,
   "id": "0fa35c7c",
   "metadata": {},
   "outputs": [],
   "source": [
    "# assign numeric to a variable\n",
    "eg_int= 5    \n",
    "eg_float= 2.8 \n",
    "eg_comp= 1j   "
   ]
  },
  {
   "cell_type": "code",
   "execution_count": 83,
   "id": "a2495515",
   "metadata": {},
   "outputs": [
    {
     "name": "stdout",
     "output_type": "stream",
     "text": [
      "5\n"
     ]
    }
   ],
   "source": [
    "print(eg_int)"
   ]
  },
  {
   "cell_type": "code",
   "execution_count": 84,
   "id": "f236be4f",
   "metadata": {},
   "outputs": [
    {
     "name": "stdout",
     "output_type": "stream",
     "text": [
      "<class 'int'>\n",
      "<class 'float'>\n",
      "<class 'complex'>\n"
     ]
    }
   ],
   "source": [
    "print(type(eg_int))\n",
    "print(type(eg_float))\n",
    "print(type(eg_comp))"
   ]
  },
  {
   "cell_type": "markdown",
   "id": "5fcd1992",
   "metadata": {},
   "source": [
    "### function you can perform with numerics"
   ]
  },
  {
   "cell_type": "code",
   "execution_count": 85,
   "id": "ebdf5248",
   "metadata": {},
   "outputs": [
    {
     "name": "stdout",
     "output_type": "stream",
     "text": [
      "2.8\n",
      "changes to the following when type casted into an int\n",
      "2\n",
      "<class 'int'>\n"
     ]
    }
   ],
   "source": [
    "# typecast- change the type of numeric\n",
    "print(eg_float)\n",
    "print(\"changes to the following when type casted into an int\")\n",
    "eg_ncast= int(eg_float)\n",
    "print(eg_ncast)\n",
    "print(type(eg_ncast))"
   ]
  },
  {
   "cell_type": "code",
   "execution_count": 86,
   "id": "cbe2c3ec",
   "metadata": {},
   "outputs": [
    {
     "name": "stdout",
     "output_type": "stream",
     "text": [
      "35j\n"
     ]
    }
   ],
   "source": [
    "x=35j\n",
    "y=str(x)\n",
    "type(x)\n",
    "print(y)"
   ]
  },
  {
   "cell_type": "code",
   "execution_count": 87,
   "id": "59354c93",
   "metadata": {},
   "outputs": [
    {
     "name": "stdout",
     "output_type": "stream",
     "text": [
      "10\n"
     ]
    }
   ],
   "source": [
    "# get random numbers\n",
    "import random\n",
    "x=5\n",
    "y=72\n",
    "print(random.randrange(x,y))"
   ]
  },
  {
   "cell_type": "code",
   "execution_count": 88,
   "id": "9bc28155",
   "metadata": {},
   "outputs": [
    {
     "name": "stdout",
     "output_type": "stream",
     "text": [
      "12.8\n"
     ]
    }
   ],
   "source": [
    "# any numeric functions\n",
    "eg_fun= eg_float+eg_ncast*eg_int\n",
    "print(eg_fun)"
   ]
  },
  {
   "cell_type": "markdown",
   "id": "b9641dc3",
   "metadata": {},
   "source": [
    "#### NOTE- priority will be given as follows-\n",
    "parentasics (),\n",
    "multiple or devide */,\n",
    "plus minus +-"
   ]
  },
  {
   "cell_type": "code",
   "execution_count": 89,
   "id": "d0cc2e3b",
   "metadata": {},
   "outputs": [
    {
     "name": "stdout",
     "output_type": "stream",
     "text": [
      "24.0\n"
     ]
    }
   ],
   "source": [
    "eg_fun= (eg_float+eg_ncast)*eg_int\n",
    "print(eg_fun)"
   ]
  },
  {
   "cell_type": "code",
   "execution_count": 90,
   "id": "b3076579",
   "metadata": {},
   "outputs": [
    {
     "name": "stdout",
     "output_type": "stream",
     "text": [
      "12.8\n"
     ]
    }
   ],
   "source": [
    "eg_fun= eg_float+(eg_ncast*eg_int)\n",
    "print(eg_fun)"
   ]
  },
  {
   "cell_type": "markdown",
   "id": "234baff2",
   "metadata": {},
   "source": [
    "# Sequence\n",
    "List, Tuples, Sets, Dictionaries"
   ]
  },
  {
   "cell_type": "markdown",
   "id": "e8b9801d",
   "metadata": {},
   "source": [
    "## Key difference"
   ]
  },
  {
   "cell_type": "markdown",
   "id": "6508da20",
   "metadata": {},
   "source": [
    "##### -List is a collection which is ordered and changeable. Allows duplicate members."
   ]
  },
  {
   "cell_type": "markdown",
   "id": "329e7d73",
   "metadata": {},
   "source": [
    "##### -Tuple is a collection which is ordered and unchangeable. Allows duplicate members."
   ]
  },
  {
   "cell_type": "markdown",
   "id": "d0cef024",
   "metadata": {},
   "source": [
    "##### -Set is a collection which is unordered, unchangeable*, and unindexed. No duplicate members."
   ]
  },
  {
   "cell_type": "markdown",
   "id": "9a941fcd",
   "metadata": {},
   "source": [
    "##### -Dictionary is a collection which is ordered** and changeable. No duplicate members."
   ]
  },
  {
   "cell_type": "markdown",
   "id": "a9c72623",
   "metadata": {},
   "source": [
    "## part one- List"
   ]
  },
  {
   "cell_type": "code",
   "execution_count": 10,
   "id": "01c6c577",
   "metadata": {},
   "outputs": [],
   "source": [
    "# assign a list to a variable\n",
    "eg_list = [\"apple\", \"banana\", \"cherry\", \"mango\", \"melon\"]"
   ]
  },
  {
   "cell_type": "code",
   "execution_count": 11,
   "id": "e5cd0d9e",
   "metadata": {},
   "outputs": [
    {
     "name": "stdout",
     "output_type": "stream",
     "text": [
      "['apple', 'banana', 'cherry', 'mango', 'melon', 'mango']\n"
     ]
    }
   ],
   "source": [
    "print(eg_list)"
   ]
  },
  {
   "cell_type": "code",
   "execution_count": 93,
   "id": "76ed4425",
   "metadata": {},
   "outputs": [
    {
     "data": {
      "text/plain": [
       "list"
      ]
     },
     "execution_count": 93,
     "metadata": {},
     "output_type": "execute_result"
    }
   ],
   "source": [
    "type(eg_list)"
   ]
  },
  {
   "cell_type": "markdown",
   "id": "7c586345",
   "metadata": {},
   "source": [
    "### functions you can perform with Lists"
   ]
  },
  {
   "cell_type": "code",
   "execution_count": 94,
   "id": "6a27b5cb",
   "metadata": {},
   "outputs": [
    {
     "name": "stdout",
     "output_type": "stream",
     "text": [
      "5\n"
     ]
    }
   ],
   "source": [
    "# find length\n",
    "print(len(eg_list))"
   ]
  },
  {
   "cell_type": "code",
   "execution_count": 95,
   "id": "f22d1634",
   "metadata": {},
   "outputs": [
    {
     "name": "stdout",
     "output_type": "stream",
     "text": [
      "mango\n",
      "['mango', 'melon']\n",
      "['apple', 'banana', 'cherry']\n",
      "['banana', 'cherry', 'mango']\n"
     ]
    }
   ],
   "source": [
    "# find what value is in an index or a rang \n",
    "print(eg_list[3])\n",
    "print(eg_list[3:])\n",
    "print(eg_list[:3])\n",
    "print(eg_list[1:-1])"
   ]
  },
  {
   "cell_type": "code",
   "execution_count": 96,
   "id": "ceb3f7cc",
   "metadata": {},
   "outputs": [
    {
     "name": "stdout",
     "output_type": "stream",
     "text": [
      "['apple', 'banana', 'cherry', 'mango', 'melon', 'pineapple', 'papaya']\n"
     ]
    }
   ],
   "source": [
    "# add another list to the extending one\n",
    "tropical = [ \"pineapple\", \"papaya\"]\n",
    "eg_list.extend(tropical)\n",
    "print(eg_list)"
   ]
  },
  {
   "cell_type": "code",
   "execution_count": 97,
   "id": "61ab8f5f",
   "metadata": {},
   "outputs": [
    {
     "name": "stdout",
     "output_type": "stream",
     "text": [
      "['apple', 'berry', 'banana', 'cherry', 'mango', 'melon', 'pineapple', 'papaya']\n"
     ]
    }
   ],
   "source": [
    "# insert a value\n",
    "eg_list.insert(1, \"berry\")\n",
    "print(eg_list)"
   ]
  },
  {
   "cell_type": "code",
   "execution_count": 98,
   "id": "6e1b570a",
   "metadata": {},
   "outputs": [
    {
     "name": "stdout",
     "output_type": "stream",
     "text": [
      "['apple', 'blackberry', 'banana', 'cherry', 'mango', 'melon', 'pineapple', 'papaya']\n"
     ]
    }
   ],
   "source": [
    "# change a value\n",
    "eg_list[1] = \"blackberry\"\n",
    "print(eg_list)"
   ]
  },
  {
   "cell_type": "code",
   "execution_count": 99,
   "id": "3625a36b",
   "metadata": {},
   "outputs": [
    {
     "name": "stdout",
     "output_type": "stream",
     "text": [
      "['apple', 'blackberry', 'cherry', 'mango', 'melon', 'pineapple', 'papaya']\n"
     ]
    }
   ],
   "source": [
    "# remove a value\n",
    "eg_list.remove(\"banana\")\n",
    "print(eg_list)"
   ]
  },
  {
   "cell_type": "markdown",
   "id": "cf01d8c3",
   "metadata": {},
   "source": [
    "## part 2- Tuples"
   ]
  },
  {
   "cell_type": "markdown",
   "id": "acfc908a",
   "metadata": {},
   "source": [
    "##### NOTE - you cant have a single value in a tuple "
   ]
  },
  {
   "cell_type": "code",
   "execution_count": 8,
   "id": "936afb96",
   "metadata": {},
   "outputs": [],
   "source": [
    "# assign a tuple to a variable\n",
    "eg_tuple = (\"apple\", \"banana\", \"cherry\")"
   ]
  },
  {
   "cell_type": "code",
   "execution_count": 9,
   "id": "a7c150d7",
   "metadata": {},
   "outputs": [
    {
     "name": "stdout",
     "output_type": "stream",
     "text": [
      "('apple', 'banana', 'cherry', 'banana')\n"
     ]
    }
   ],
   "source": [
    "print(eg_tuple)"
   ]
  },
  {
   "cell_type": "code",
   "execution_count": 102,
   "id": "3d12481b",
   "metadata": {},
   "outputs": [
    {
     "data": {
      "text/plain": [
       "tuple"
      ]
     },
     "execution_count": 102,
     "metadata": {},
     "output_type": "execute_result"
    }
   ],
   "source": [
    "type(eg_tuple)"
   ]
  },
  {
   "cell_type": "markdown",
   "id": "d69011e1",
   "metadata": {},
   "source": [
    "### function you can perform with tuples"
   ]
  },
  {
   "cell_type": "code",
   "execution_count": 103,
   "id": "8714cf77",
   "metadata": {},
   "outputs": [
    {
     "name": "stdout",
     "output_type": "stream",
     "text": [
      "cherry\n",
      "('banana', 'cherry')\n",
      "('apple',)\n",
      "('banana',)\n"
     ]
    }
   ],
   "source": [
    "# find what value is in an index or a rang \n",
    "print(eg_tuple[2])\n",
    "print(eg_tuple[1:])\n",
    "print(eg_tuple[:1])\n",
    "print(eg_tuple[1:-1])"
   ]
  },
  {
   "cell_type": "code",
   "execution_count": 104,
   "id": "02c16d3f",
   "metadata": {},
   "outputs": [
    {
     "name": "stdout",
     "output_type": "stream",
     "text": [
      "('apple', 'banana', 'cherry', 'orange')\n"
     ]
    }
   ],
   "source": [
    "# add a value by adding a new tuple\n",
    "\n",
    "\n",
    "y = (\"orange\",)\n",
    "eg_tuple += y\n",
    "\n",
    "print(eg_tuple)"
   ]
  },
  {
   "cell_type": "code",
   "execution_count": 105,
   "id": "81c85113",
   "metadata": {},
   "outputs": [
    {
     "name": "stdout",
     "output_type": "stream",
     "text": [
      "apple\n",
      "banana\n",
      "['cherry', 'orange']\n",
      "orange\n"
     ]
    }
   ],
   "source": [
    "# unpacking a tuple:- which means you can extract the values back into variables\n",
    "# the * will assign the rest of the values to the given variable\n",
    "(red, yellow, *pink) = eg_tuple\n",
    "print(red)\n",
    "print(yellow)\n",
    "print(pink)\n",
    "print(orange)"
   ]
  },
  {
   "cell_type": "markdown",
   "id": "b60087c5",
   "metadata": {},
   "source": [
    "## part 3- Sets"
   ]
  },
  {
   "cell_type": "markdown",
   "id": "79af53bb",
   "metadata": {},
   "source": [
    "##### NOTE- unlike tuple; sets will not take in duplicate value"
   ]
  },
  {
   "cell_type": "code",
   "execution_count": 4,
   "id": "cd295de8",
   "metadata": {},
   "outputs": [],
   "source": [
    "# assign a set to a variable\n",
    "eg_set = {\"apple\", \"banana\", \"cherry\"}"
   ]
  },
  {
   "cell_type": "code",
   "execution_count": 5,
   "id": "8c50bd2d",
   "metadata": {},
   "outputs": [
    {
     "name": "stdout",
     "output_type": "stream",
     "text": [
      "{'cherry', 'apple', 'banana'}\n"
     ]
    }
   ],
   "source": [
    "print(eg_set)"
   ]
  },
  {
   "cell_type": "code",
   "execution_count": 7,
   "id": "7dc8f924",
   "metadata": {},
   "outputs": [
    {
     "name": "stdout",
     "output_type": "stream",
     "text": [
      "{'cherry', 'apple', 'banana'}\n"
     ]
    }
   ],
   "source": [
    "# sets dont take in duplicate values\n",
    "thisset = {\"apple\", \"banana\", \"cherry\",\"banana\", \"cherry\"}\n",
    "print(thisset)"
   ]
  },
  {
   "cell_type": "code",
   "execution_count": 12,
   "id": "93acfcc9",
   "metadata": {},
   "outputs": [
    {
     "data": {
      "text/plain": [
       "set"
      ]
     },
     "execution_count": 12,
     "metadata": {},
     "output_type": "execute_result"
    }
   ],
   "source": [
    "type(eg_set)"
   ]
  },
  {
   "cell_type": "markdown",
   "id": "811711eb",
   "metadata": {},
   "source": [
    "### functions you can perform with sets"
   ]
  },
  {
   "cell_type": "code",
   "execution_count": 18,
   "id": "b49a0607",
   "metadata": {},
   "outputs": [
    {
     "name": "stdout",
     "output_type": "stream",
     "text": [
      "{'orange', 'cherry', 'apple', 'banana'}\n",
      "{'orange', 'cherry', 'banana', 'apple'}\n",
      "{'orange', 'cherry', 'apple'}\n"
     ]
    }
   ],
   "source": [
    "# add an item to the set\n",
    "eg_set.add(\"orange\")\n",
    "print(eg_set)\n",
    "\n",
    "# add items from another set to the existing set\n",
    "thisset.update(eg_set)\n",
    "print(thisset)\n",
    "\n",
    "# remove items from set\n",
    "eg_set.remove(\"banana\")\n",
    "print(eg_set)"
   ]
  },
  {
   "cell_type": "code",
   "execution_count": 19,
   "id": "30d3b78e",
   "metadata": {},
   "outputs": [
    {
     "name": "stdout",
     "output_type": "stream",
     "text": [
      "orange\n",
      "cherry\n",
      "banana\n",
      "apple\n"
     ]
    }
   ],
   "source": [
    "# loop sets\n",
    "for x in thisset:\n",
    "  print(x)"
   ]
  },
  {
   "cell_type": "code",
   "execution_count": 21,
   "id": "9eea0140",
   "metadata": {},
   "outputs": [
    {
     "name": "stdout",
     "output_type": "stream",
     "text": [
      "{1, 2, 'b', 3, 'a', 'c'}\n"
     ]
    }
   ],
   "source": [
    "# join two sets into a 3rd set\n",
    "set1 = {\"a\", \"b\" , \"c\"}\n",
    "set2 = {1, 2, 3}\n",
    "\n",
    "set3 = set1.union(set2)\n",
    "print(set3)"
   ]
  },
  {
   "cell_type": "markdown",
   "id": "abfe764d",
   "metadata": {},
   "source": [
    "## part-4 Dictionaries"
   ]
  },
  {
   "cell_type": "markdown",
   "id": "5a5af426",
   "metadata": {},
   "source": [
    "##### Dictionaries are used to store data values in key:value pairs."
   ]
  },
  {
   "cell_type": "code",
   "execution_count": 28,
   "id": "6b5b7afc",
   "metadata": {},
   "outputs": [],
   "source": [
    "# defining a dictionary\n",
    "eg_dict = {\n",
    "  \"brand\": \"Ford\",\n",
    "  \"model\": \"Mustang\",\n",
    "  \"year\": 1964\n",
    "}"
   ]
  },
  {
   "cell_type": "code",
   "execution_count": 29,
   "id": "690525e8",
   "metadata": {},
   "outputs": [
    {
     "name": "stdout",
     "output_type": "stream",
     "text": [
      "{'brand': 'Ford', 'model': 'Mustang', 'year': 1964}\n"
     ]
    }
   ],
   "source": [
    "print(eg_dict)"
   ]
  },
  {
   "cell_type": "code",
   "execution_count": 32,
   "id": "d27e39d3",
   "metadata": {},
   "outputs": [
    {
     "name": "stdout",
     "output_type": "stream",
     "text": [
      "<class 'dict'>\n"
     ]
    }
   ],
   "source": [
    "print(type(eg_dict))"
   ]
  },
  {
   "cell_type": "code",
   "execution_count": 33,
   "id": "7e1a2966",
   "metadata": {},
   "outputs": [
    {
     "name": "stdout",
     "output_type": "stream",
     "text": [
      "Ford\n"
     ]
    }
   ],
   "source": [
    "# printing a perticular key\n",
    "print(eg_dict[\"brand\"])"
   ]
  },
  {
   "cell_type": "code",
   "execution_count": 34,
   "id": "222d6722",
   "metadata": {},
   "outputs": [
    {
     "name": "stdout",
     "output_type": "stream",
     "text": [
      "{'brand': 'Ford', 'model': 'Mustang', 'year': 2020}\n"
     ]
    }
   ],
   "source": [
    "# Duplicate values will overwrite existing values\n",
    "eg1dict = {\n",
    "  \"brand\": \"Ford\",\n",
    "  \"model\": \"Mustang\",\n",
    "  \"year\": 1964,\n",
    "  \"year\": 2020\n",
    "}\n",
    "print(eg1dict)"
   ]
  },
  {
   "cell_type": "markdown",
   "id": "8108e67c",
   "metadata": {},
   "source": [
    "###### functions on dictionary added to the \"Sequence- Dictionary\" file"
   ]
  }
 ],
 "metadata": {
  "kernelspec": {
   "display_name": "Python 3 (ipykernel)",
   "language": "python",
   "name": "python3"
  },
  "language_info": {
   "codemirror_mode": {
    "name": "ipython",
    "version": 3
   },
   "file_extension": ".py",
   "mimetype": "text/x-python",
   "name": "python",
   "nbconvert_exporter": "python",
   "pygments_lexer": "ipython3",
   "version": "3.9.7"
  }
 },
 "nbformat": 4,
 "nbformat_minor": 5
}
